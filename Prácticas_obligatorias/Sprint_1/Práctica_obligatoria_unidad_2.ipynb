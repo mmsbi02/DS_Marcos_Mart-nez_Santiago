{
 "cells": [
  {
   "cell_type": "markdown",
   "id": "6fd75708",
   "metadata": {},
   "source": [
    "# Parte I"
   ]
  },
  {
   "cell_type": "code",
   "execution_count": 18,
   "id": "3f808ec7",
   "metadata": {},
   "outputs": [
    {
     "name": "stdout",
     "output_type": "stream",
     "text": [
      "Le mandaresmos las 44 pizzas a la dirección ajklsdfgh . Serán 414.7 €. Muchas gracias por su pedido.\n"
     ]
    }
   ],
   "source": [
    "pizz_familiares = int(input(\"Buenas tardes, bienvenido al servicio de pedido online, el precio de nuestra pizzas es de 8,95 para la familiar o de 9,90 para la mediana. ¿Cuantas pizzas familiares desea?\"))\n",
    "pizz_medianas = int(input(\"Estupendo, ¿Cuantas pizzas medianas desea?\"))\n",
    "direcc = str(input(f\"Estupendo, se están preparando {pizz_familiares} pizzas familiares y {pizz_medianas} pizzas medianas. Digame su dirección\"))\n",
    "\n",
    "total_pizzas = pizz_familiares + pizz_medianas\n",
    "costo_falmiliares_precio = pizz_familiares * 8.95\n",
    "costo_medianas_precio = pizz_medianas * 9.90\n",
    "costo_total_precio_pizzas = costo_falmiliares_precio + costo_medianas_precio\n",
    "\n",
    "print(\"Le mandaresmos las\",total_pizzas,\"pizzas a la dirección\",direcc,\".\",\"Serán\",costo_total_precio_pizzas,\"€. Muchas gracias por su pedido.\")"
   ]
  },
  {
   "cell_type": "markdown",
   "id": "0ca911dc",
   "metadata": {},
   "source": [
    "# Parte II"
   ]
  },
  {
   "cell_type": "code",
   "execution_count": 41,
   "id": "6c24be8d",
   "metadata": {},
   "outputs": [
    {
     "name": "stdout",
     "output_type": "stream",
     "text": [
      "['1', '2', '3']\n",
      "3\n",
      "1\n",
      "6\n",
      "False\n"
     ]
    }
   ],
   "source": [
    "numeros  = input(\"Dame tres numeros que estén separados por comas:\")\n",
    "lista_numeros = numeros.split(\",\")\n",
    "print(lista_numeros)\n",
    "print(max(lista_numeros))\n",
    "print(min(lista_numeros))\n",
    "print(int(lista_numeros[0]) + int(lista_numeros[1]) + int(lista_numeros[2]))\n",
    "\n",
    "suma = int(lista_numeros[0]) + int(lista_numeros[1]) + int(lista_numeros[2])\n",
    "maximo = int(max(lista_numeros))\n",
    "minimo = int(min(lista_numeros))\n",
    "\n",
    "total = maximo - minimo == suma / 5\n",
    "print(total)\n",
    "\n",
    "\n",
    "\n",
    "\n",
    "\n",
    "\n",
    "\n"
   ]
  }
 ],
 "metadata": {
  "kernelspec": {
   "display_name": "Python 3",
   "language": "python",
   "name": "python3"
  },
  "language_info": {
   "codemirror_mode": {
    "name": "ipython",
    "version": 3
   },
   "file_extension": ".py",
   "mimetype": "text/x-python",
   "name": "python",
   "nbconvert_exporter": "python",
   "pygments_lexer": "ipython3",
   "version": "3.13.8"
  }
 },
 "nbformat": 4,
 "nbformat_minor": 5
}
