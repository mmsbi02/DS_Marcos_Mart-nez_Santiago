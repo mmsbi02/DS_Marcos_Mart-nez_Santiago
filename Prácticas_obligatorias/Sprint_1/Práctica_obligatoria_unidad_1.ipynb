{
 "cells": [
  {
   "cell_type": "markdown",
   "id": "3287b150",
   "metadata": {},
   "source": [
    "## Ejercicio 1 "
   ]
  },
  {
   "cell_type": "markdown",
   "id": "1f32b038",
   "metadata": {},
   "source": [
    "### Aptitudes en Data Science  \n",
    "  \n",
    "\n",
    ">**Lo más importante**  \n",
    ">* Matemáticas   \n",
    ">* Python\n",
    ">* SQL  \n",
    "><img src=\"./python.png\" width = 300>  \n",
    ">\n",
    ">Otro tema muy importante es la ***Estadistica***  \n",
    ">\n",
    ">Si tienes dudas, puedes escribirnos a: ta_ds_online@gthebridgeschool.es  \n",
    ">  \n",
    ">Y en esta web se aprende mucho *Machine Learning*: [Kaggle](https://www.kaggle.com/)\n",
    "\n",
    "\n",
    "\n",
    "\n",
    "\n"
   ]
  },
  {
   "cell_type": "markdown",
   "id": "aa7c3557",
   "metadata": {},
   "source": [
    "## Ejercicio 2"
   ]
  },
  {
   "cell_type": "markdown",
   "id": "363cd4a3",
   "metadata": {},
   "source": [
    "<div align=\"center\">\n",
    "\n",
    "| **Fundamentals** | **Data Analysis**   | **Machine Learning**   | **Data & Business**   |\n",
    "|--------------|--------------|--------------|--------------|\n",
    "| Jupyter       | SQL       | Supervisado       | API         |\n",
    "| GitHub       | Estadistica       | No Supervisado       | Despliegue         |\n",
    "| Python       | EDA      | Deep Learning       | Cloud Computing         |  \n",
    "  \n",
    "  \n",
    "$$\n",
    "\\sqrt{3x - 1} + (1 + x)^2\n",
    "$$"
   ]
  }
 ],
 "metadata": {
  "language_info": {
   "name": "python"
  }
 },
 "nbformat": 4,
 "nbformat_minor": 5
}
