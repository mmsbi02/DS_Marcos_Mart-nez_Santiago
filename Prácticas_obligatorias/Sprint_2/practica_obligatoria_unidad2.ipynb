{
 "cells": [
  {
   "cell_type": "markdown",
   "id": "75fc72c9",
   "metadata": {},
   "source": [
    "# Ejercicio"
   ]
  },
  {
   "cell_type": "code",
   "execution_count": 92,
   "id": "b48793a0",
   "metadata": {},
   "outputs": [],
   "source": [
    "class User:\n",
    "    def __init__(self,nombre,apellido,saldo,checking_acount = True):\n",
    "        self.nombre = nombre\n",
    "        self.apellido = apellido\n",
    "        self.saldo = int(saldo)   \n",
    "        self.checking_acount = checking_acount\n",
    "\n",
    "    def print_datos(self):\n",
    "        print(f\"Nombre: {self.nombre}\")\n",
    "        print(f\"Apellido: {self.apellido}\")\n",
    "        print(f\"Saldo: {self.saldo}\")\n",
    "        print(self.checking_acount)\n",
    "        #return self.nombre\n",
    "    \n",
    "    def withdraw(self,cantidad,**resto):\n",
    "        self.resto = resto\n",
    "        self.resto = self.saldo - cantidad\n",
    "        if cantidad <= self.saldo:   \n",
    "            print(f\"{self.nombre} {self.apellido} tiene {self.resto}\")\n",
    "        else:\n",
    "           raise Exception(\"No se puedes retirar mas dinero del que tienes en la cuenta.\") \n",
    "        return self.nombre , resto\n",
    "\n",
    "    def deposit(self,agregar):\n",
    "        suma = agregar + self.resto\n",
    "        print(f\"{self.nombre} {self.apellido} ha ingresado {agregar}\")\n",
    "        return self.nombre , suma\n",
    "\n",
    "    def transfer(self,cuenta_destino,cantidad):\n",
    "        \n",
    "        if cantidad > self.saldo and self.checking_acount == False:\n",
    "            raise Exception(\"No hay fondos o la cuenta no esta activada\")\n",
    "        self.saldo = self.saldo - cantidad\n",
    "        cuenta_destino.saldo = cuenta_destino.saldo + cantidad \n",
    "\n",
    "        return f\"{self.nombre,self.apellido} ha hecho la transferencia de {cantidad} correctamente a {cuenta_destino.nombre}: {cantidad} {cuenta_destino.saldo}\"\n",
    "\n",
    "        \n",
    "        \n",
    "            \n",
    "\n",
    "        \n",
    "            \n",
    "\n",
    "\n",
    "\n",
    "\n",
    "\n",
    "            \n"
   ]
  },
  {
   "cell_type": "code",
   "execution_count": null,
   "id": "e9f736b2",
   "metadata": {},
   "outputs": [
    {
     "name": "stdout",
     "output_type": "stream",
     "text": [
      "Nombre: Marcos\n",
      "Apellido: Martinez\n",
      "Saldo: 70\n",
      "True\n",
      "None\n",
      "Nombre: Ana\n",
      "Apellido: Sanchez\n",
      "Saldo: 70\n",
      "False\n",
      "None\n",
      "Marcos Martinez tiene 60\n",
      "Marcos Martinez ha ingresado 10\n"
     ]
    },
    {
     "data": {
      "text/plain": [
       "\"('Marcos', 'Martinez') ha hecho la transferencia de 10 correctamente a Ana: 10 80\""
      ]
     },
     "execution_count": 94,
     "metadata": {},
     "output_type": "execute_result"
    }
   ],
   "source": [
    "Jon = User(\"Marcos\",\"Martinez\",70,True)\n",
    "Jen = User(\"Ana\",\"Sanchez\",70,True)\n",
    "print(Jon.print_datos())\n",
    "print(Jen.print_datos())\n",
    "Jon.withdraw(10)\n",
    "Jon.deposit(10)\n",
    "Jon.transfer(Jen,10)"
   ]
  }
 ],
 "metadata": {
  "kernelspec": {
   "display_name": "Python 3",
   "language": "python",
   "name": "python3"
  },
  "language_info": {
   "codemirror_mode": {
    "name": "ipython",
    "version": 3
   },
   "file_extension": ".py",
   "mimetype": "text/x-python",
   "name": "python",
   "nbconvert_exporter": "python",
   "pygments_lexer": "ipython3",
   "version": "3.13.8"
  }
 },
 "nbformat": 4,
 "nbformat_minor": 5
}
