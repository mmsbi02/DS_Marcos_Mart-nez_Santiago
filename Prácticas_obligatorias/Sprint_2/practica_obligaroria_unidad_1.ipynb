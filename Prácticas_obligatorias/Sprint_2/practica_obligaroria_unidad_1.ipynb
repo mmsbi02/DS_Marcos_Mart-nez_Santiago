{
 "cells": [
  {
   "cell_type": "markdown",
   "id": "8d1fd7e8",
   "metadata": {},
   "source": [
    "# Ejercicio 1"
   ]
  },
  {
   "cell_type": "code",
   "execution_count": 2,
   "id": "73478d07",
   "metadata": {},
   "outputs": [
    {
     "name": "stdout",
     "output_type": "stream",
     "text": [
      "1\n",
      "4\n",
      "9\n",
      "16\n",
      "25\n"
     ]
    }
   ],
   "source": [
    "ejer_2 = [1,2,3,4,5]\n",
    "for i in ejer_2:\n",
    "    elevar = i ** 2\n",
    "    print(elevar)\n",
    "\n"
   ]
  },
  {
   "cell_type": "markdown",
   "id": "2838029f",
   "metadata": {},
   "source": [
    "# Ejercicio 2"
   ]
  },
  {
   "cell_type": "code",
   "execution_count": 3,
   "id": "fd0967dc",
   "metadata": {},
   "outputs": [
    {
     "name": "stdout",
     "output_type": "stream",
     "text": [
      "Los indices de 'un'son: {7}\n",
      "Los indices de 'es'son: {3}\n",
      "Los indices de 'es'son: {13}\n",
      "Los indices de 'binario'son: {2}\n",
      "Los indices de 'binario'son: {15}\n"
     ]
    }
   ],
   "source": [
    "ejer_3 = [\"Un\", \"árbol\", \"binario\", \"es\", \"una\", \"estructura\", \"de\", \"un\", \"tipo\", \"particular\", \"a\", \"veces\", \"no\", \"es\", \"ni\", \"binario\"]\n",
    "for duplicado in [\"un\",\"es\",\"binario\"]:\n",
    "    for i in range(len(ejer_3)):\n",
    "        indices = i\n",
    "        if ejer_3[i] == duplicado:\n",
    "            print(f\"Los indices de '{duplicado}'son:\",{indices})\n",
    "\n"
   ]
  },
  {
   "cell_type": "markdown",
   "id": "d5dd9dce",
   "metadata": {},
   "source": [
    "# Ejercicio 3"
   ]
  },
  {
   "cell_type": "code",
   "execution_count": 4,
   "id": "c3dfcc53",
   "metadata": {},
   "outputs": [
    {
     "name": "stdout",
     "output_type": "stream",
     "text": [
      "El numero 3 se repite 7 veces\n",
      "(3, 29, 45, 67, 78)\n",
      "La tupla tiene 26 elementos\n"
     ]
    }
   ],
   "source": [
    "ejer_9 = (3, 20, 3, 47, 19, 3, 29, 45, 67, 78, 90, 3, 3, 5, 2, 4, 7, 9, 4, 2, 4, 3, 3, 4, 6, 7)\n",
    "numero = 3\n",
    "repetido = ejer_9.count(numero)\n",
    "print(\"El numero 3 se repite\",repetido,\"veces\")\n",
    "nueva_tupla = ejer_9[5:10]\n",
    "print(nueva_tupla)\n",
    "elementos = len(ejer_9)\n",
    "print(f\"La tupla tiene {elementos} elementos\")\n",
    "\n",
    "    \n",
    "\n"
   ]
  },
  {
   "cell_type": "markdown",
   "id": "2025cf85",
   "metadata": {},
   "source": [
    "# Ejercicio 4"
   ]
  },
  {
   "cell_type": "code",
   "execution_count": 5,
   "id": "2627d83b",
   "metadata": {},
   "outputs": [
    {
     "name": "stdout",
     "output_type": "stream",
     "text": [
      "El numero 60 no esta\n"
     ]
    }
   ],
   "source": [
    "\n",
    "\n",
    "if 60 in ejer_9:\n",
    "    print(\"El numero 60 si que esta\")\n",
    "else:\n",
    "    print(\"El numero 60 no esta\")"
   ]
  },
  {
   "cell_type": "markdown",
   "id": "cbd3c3f5",
   "metadata": {},
   "source": [
    "# Ejercicio 5"
   ]
  },
  {
   "cell_type": "code",
   "execution_count": 6,
   "id": "bdd17dc5",
   "metadata": {},
   "outputs": [
    {
     "name": "stdout",
     "output_type": "stream",
     "text": [
      "[3, 20, 3, 47, 19, 3, 29, 45, 67, 78, 90, 3, 3, 5, 2, 4, 7, 9, 4, 2, 4, 3, 3, 4, 6, 7]\n",
      "{0: 3, 1: 20, 2: 3, 3: 47, 4: 19, 5: 3, 6: 29, 7: 45, 8: 67, 9: 78, 10: 90, 11: 3, 12: 3, 13: 5, 14: 2, 15: 4, 16: 7, 17: 9, 18: 4, 19: 2, 20: 4, 21: 3, 22: 3, 23: 4, 24: 6, 25: 7}\n",
      "{2, 3, 67, 5, 4, 7, 6, 9, 45, 78, 47, 19, 20, 90, 29}\n"
     ]
    }
   ],
   "source": [
    "\n",
    "lista = list(ejer_9)\n",
    "print(lista)\n",
    "diccionario = dict(enumerate(ejer_9))\n",
    "print(diccionario)\n",
    "numeros = set(ejer_9)\n",
    "print(numeros)\n"
   ]
  },
  {
   "cell_type": "markdown",
   "id": "063aafef",
   "metadata": {},
   "source": [
    "# Ejercicio 6"
   ]
  },
  {
   "cell_type": "code",
   "execution_count": 9,
   "id": "a2d03132",
   "metadata": {},
   "outputs": [
    {
     "name": "stdout",
     "output_type": "stream",
     "text": [
      "19326120\n"
     ]
    }
   ],
   "source": [
    "import math\n",
    "ejer_6 = {1: 11, 2: 22, 3: 33, 4: 44, 5: 55}\n",
    "multiplicacion = math.prod(ejer_6.values())\n",
    "print(multiplicacion)"
   ]
  },
  {
   "cell_type": "markdown",
   "id": "92e73a84",
   "metadata": {},
   "source": [
    "# Ejercicio 7"
   ]
  },
  {
   "cell_type": "code",
   "execution_count": null,
   "id": "8c82f015",
   "metadata": {},
   "outputs": [],
   "source": [
    "ejer_7 = {\"titulo\":\"teo va a la granja\",\"autor\":\"Violeta Denou\",\"idioma original\":\"castellano\",\"año de publicación\":1978}\n",
    "libreria = [\"Los juegos del hambre\",\"El resplandor\",\"La larga marcha\",\"Harry Potter\"]"
   ]
  },
  {
   "cell_type": "markdown",
   "id": "d418fd11",
   "metadata": {},
   "source": [
    "# Ejercicio 8"
   ]
  },
  {
   "cell_type": "code",
   "execution_count": 4,
   "id": "cc3d47c8",
   "metadata": {},
   "outputs": [
    {
     "name": "stdout",
     "output_type": "stream",
     "text": [
      "{'titulo': 'teo va a la granja', 'autor': 'Violeta Denou', 'idioma original': 'esperanto', 'año de publicación': 1978}\n"
     ]
    }
   ],
   "source": [
    "ejer_7[\"idioma original\"] = \"esperanto\"\n",
    "print(ejer_7)"
   ]
  },
  {
   "cell_type": "markdown",
   "id": "5e3e8605",
   "metadata": {},
   "source": [
    "# Ejercicio 9"
   ]
  },
  {
   "cell_type": "code",
   "execution_count": null,
   "id": "0fd44ce5",
   "metadata": {},
   "outputs": [
    {
     "name": "stdout",
     "output_type": "stream",
     "text": [
      "Ese libro si que lo tienes, muy bien.\n"
     ]
    }
   ],
   "source": [
    "libreria = [\"Los juegos del hambre\",\"El resplandor\",\"La larga marcha\",\"Harry Potter\"]\n",
    "libro = str(input(\"Busca que libros tienes:\"))\n",
    "if libro in libreria:\n",
    "    print(\"Ese libro si que lo tienes, muy bien.\")\n",
    "else:\n",
    "    print(\"Ese no lo tendo, ¿mola?\")"
   ]
  },
  {
   "cell_type": "markdown",
   "id": "7913a586",
   "metadata": {},
   "source": [
    "# Ejercicio 10"
   ]
  },
  {
   "cell_type": "code",
   "execution_count": 14,
   "id": "2ae63e3c",
   "metadata": {},
   "outputs": [
    {
     "name": "stdout",
     "output_type": "stream",
     "text": [
      "Los indices de 'es'son: {3}\n",
      "Los indices de 'es'son: {13}\n"
     ]
    }
   ],
   "source": [
    "def buscar(duplicado):\n",
    "    ejer_3 = [\"Un\", \"árbol\", \"binario\", \"es\", \"una\", \"estructura\", \"de\", \"un\", \"tipo\", \"particular\", \"a\", \"veces\", \"no\", \"es\", \"ni\", \"binario\"]\n",
    "    for i in range(len(ejer_3)):\n",
    "        indices = i\n",
    "        if ejer_3[i] == duplicado:\n",
    "            print(f\"Los indices de '{duplicado}'son:\",{indices})\n",
    "buscar(\"es\")"
   ]
  },
  {
   "cell_type": "markdown",
   "id": "480ee978",
   "metadata": {},
   "source": [
    "# Ejercicio 11"
   ]
  },
  {
   "cell_type": "code",
   "execution_count": null,
   "id": "514e7e97",
   "metadata": {},
   "outputs": [],
   "source": [
    "def libreria_libros(libreria,posicional,titulo,**kargs):\n",
    "    libreria = [\"Los juegos del hambre\",\"El resplandor\",\"La larga marcha\",\"Harry Potter\"]\n",
    "    \n",
    "    if libro in libreria:\n",
    "        print(\"Ese libro si que lo tienes, muy bien.\")\n",
    "    else:\n",
    "        print(\"Ese no lo tendo, ¿mola?\")"
   ]
  },
  {
   "cell_type": "markdown",
   "id": "f7b918ff",
   "metadata": {},
   "source": [
    "# Ejercicio 12"
   ]
  },
  {
   "cell_type": "code",
   "execution_count": 22,
   "id": "91cfa34a",
   "metadata": {},
   "outputs": [
    {
     "name": "stdout",
     "output_type": "stream",
     "text": [
      "Tu correo de gmail es valido\n"
     ]
    }
   ],
   "source": [
    "import re\n",
    "def validacion():\n",
    "    correo = str(input(\"Dame tu correo electronico para verificarlo:\"))\n",
    "    exreg = r'^[a-z0-9]+[\\._]?[a-z0-9]+[@]\\w+[.]\\w+$'\n",
    "    if re.match(exreg, correo):\n",
    "        print(\"Tu correo de gmail es valido\")\n",
    "    else:\n",
    "        print(\"Correo no valido\")\n",
    "\n",
    "validacion()"
   ]
  },
  {
   "cell_type": "markdown",
   "id": "1fa19911",
   "metadata": {},
   "source": [
    "# Ejercicio 13"
   ]
  },
  {
   "cell_type": "code",
   "execution_count": 28,
   "id": "61860a82",
   "metadata": {},
   "outputs": [
    {
     "data": {
      "text/plain": [
       "True"
      ]
     },
     "execution_count": 28,
     "metadata": {},
     "output_type": "execute_result"
    }
   ],
   "source": [
    "import re\n",
    "def validar_dni(dni):\n",
    "    exreg = r'^[0-9]{8}+[A-Z]{1}$'\n",
    "    if re.match(exreg, dni):\n",
    "        return True\n",
    "    else:\n",
    "        return False\n",
    "validar_dni(\"51111111T\")"
   ]
  }
 ],
 "metadata": {
  "kernelspec": {
   "display_name": "Python 3",
   "language": "python",
   "name": "python3"
  },
  "language_info": {
   "codemirror_mode": {
    "name": "ipython",
    "version": 3
   },
   "file_extension": ".py",
   "mimetype": "text/x-python",
   "name": "python",
   "nbconvert_exporter": "python",
   "pygments_lexer": "ipython3",
   "version": "3.13.8"
  }
 },
 "nbformat": 4,
 "nbformat_minor": 5
}
